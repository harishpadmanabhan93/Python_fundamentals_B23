{
 "cells": [
  {
   "cell_type": "code",
   "execution_count": 1,
   "metadata": {},
   "outputs": [],
   "source": [
    "#Intro to looping statements:\n",
    "\n",
    "    #Working with for loops:\n",
    "        #"
   ]
  },
  {
   "cell_type": "code",
   "execution_count": null,
   "metadata": {},
   "outputs": [],
   "source": [
    "#Req : To greet the bank customers on New year \n"
   ]
  },
  {
   "cell_type": "code",
   "execution_count": 3,
   "metadata": {},
   "outputs": [],
   "source": [
    "bank_customers=['Naveen','papi','ram','karthik','sowmiya','vandana','anushka','harish','infant']"
   ]
  },
  {
   "cell_type": "code",
   "execution_count": 6,
   "metadata": {},
   "outputs": [
    {
     "name": "stdout",
     "output_type": "stream",
     "text": [
      "Wish you very happy new year, Naveen\n"
     ]
    }
   ],
   "source": [
    "    print(f\"Wish you very happy new year, {bank_customers[0]}\")"
   ]
  },
  {
   "cell_type": "code",
   "execution_count": 7,
   "metadata": {},
   "outputs": [
    {
     "name": "stdout",
     "output_type": "stream",
     "text": [
      "Wish you very happy new year, papi\n"
     ]
    }
   ],
   "source": [
    "    print(f\"Wish you very happy new year, {bank_customers[1]}\")"
   ]
  },
  {
   "cell_type": "code",
   "execution_count": 10,
   "metadata": {},
   "outputs": [
    {
     "name": "stdout",
     "output_type": "stream",
     "text": [
      "Wish you very happy new year,Naveen\n",
      "Wish you very happy new year,papi\n",
      "Wish you very happy new year,ram\n",
      "Wish you very happy new year,karthik\n",
      "Wish you very happy new year,sowmiya\n",
      "Wish you very happy new year,vandana\n",
      "Wish you very happy new year,anushka\n",
      "Wish you very happy new year,harish\n",
      "Wish you very happy new year,infant\n"
     ]
    }
   ],
   "source": [
    "#In singleshot we have greeted all the customers using for loop:\n",
    "\n",
    "for customer in bank_customers:\n",
    "    print(f\"Wish you very happy new year,{customer}\")"
   ]
  },
  {
   "cell_type": "code",
   "execution_count": 13,
   "metadata": {},
   "outputs": [],
   "source": [
    "#General syntax of for loop:\n",
    "for tempvar in mainvar: #indentation : one tab space\n",
    "    print(tempvar)"
   ]
  },
  {
   "cell_type": "code",
   "execution_count": 15,
   "metadata": {},
   "outputs": [
    {
     "name": "stdout",
     "output_type": "stream",
     "text": [
      "Hello Naveen !!!, wish a very happy new year 2020!!!\n",
      "Hello papi !!!, wish a very happy new year 2020!!!\n",
      "Hello ram !!!, wish a very happy new year 2020!!!\n",
      "Hello karthik !!!, wish a very happy new year 2020!!!\n",
      "Hello sowmiya !!!, wish a very happy new year 2020!!!\n",
      "Hello vandana !!!, wish a very happy new year 2020!!!\n",
      "Hello anushka !!!, wish a very happy new year 2020!!!\n",
      "Hello harish !!!, wish a very happy new year 2020!!!\n",
      "Hello infant !!!, wish a very happy new year 2020!!!\n"
     ]
    }
   ],
   "source": [
    "for x in bank_customers:\n",
    "    print(f\"Hello {x} !!!, wish a very happy new year 2020!!!\")"
   ]
  },
  {
   "cell_type": "code",
   "execution_count": 16,
   "metadata": {},
   "outputs": [],
   "source": [
    "students = ['ramesh','suresh','suman','prabu','harish','jasmine','ravi']"
   ]
  },
  {
   "cell_type": "code",
   "execution_count": 17,
   "metadata": {},
   "outputs": [],
   "source": [
    "#Req: To appreciating the students for sending files without fail to the trainer"
   ]
  },
  {
   "cell_type": "code",
   "execution_count": 20,
   "metadata": {},
   "outputs": [
    {
     "name": "stdout",
     "output_type": "stream",
     "text": [
      "Keep up the good work ramesh !!!\n",
      "Keep up the good work suresh !!!\n",
      "Keep up the good work suman !!!\n",
      "Keep up the good work prabu !!!\n",
      "Keep up the good work harish !!!\n",
      "Keep up the good work jasmine !!!\n",
      "Keep up the good work ravi !!!\n"
     ]
    }
   ],
   "source": [
    "for x in students:\n",
    "    print(f\"Keep up the good work {x} !!!\")"
   ]
  },
  {
   "cell_type": "code",
   "execution_count": 21,
   "metadata": {},
   "outputs": [
    {
     "name": "stdout",
     "output_type": "stream",
     "text": [
      "Keep up the good work Ramesh !!!\n",
      "Keep up the good work Suresh !!!\n",
      "Keep up the good work Suman !!!\n",
      "Keep up the good work Prabu !!!\n",
      "Keep up the good work Harish !!!\n",
      "Keep up the good work Jasmine !!!\n",
      "Keep up the good work Ravi !!!\n"
     ]
    }
   ],
   "source": [
    "for x in students:\n",
    "    print(f\"Keep up the good work {x.title()} !!!\")"
   ]
  },
  {
   "cell_type": "code",
   "execution_count": 22,
   "metadata": {},
   "outputs": [
    {
     "name": "stdout",
     "output_type": "stream",
     "text": [
      "Keep up the good work RAMESH !!!\n",
      "Keep up the good work SURESH !!!\n",
      "Keep up the good work SUMAN !!!\n",
      "Keep up the good work PRABU !!!\n",
      "Keep up the good work HARISH !!!\n",
      "Keep up the good work JASMINE !!!\n",
      "Keep up the good work RAVI !!!\n"
     ]
    }
   ],
   "source": [
    "for x in students:\n",
    "    print(f\"Keep up the good work {x.upper()} !!!\")"
   ]
  },
  {
   "cell_type": "code",
   "execution_count": 31,
   "metadata": {},
   "outputs": [
    {
     "name": "stdout",
     "output_type": "stream",
     "text": [
      "Keep up the good work RAMESH !!!\n",
      "I will be looking forward to receive al your practise files of today, Ramesh\n",
      "Keep up the good work SURESH !!!\n",
      "I will be looking forward to receive al your practise files of today, Suresh\n",
      "Keep up the good work SUMAN !!!\n",
      "I will be looking forward to receive al your practise files of today, Suman\n",
      "Keep up the good work PRABU !!!\n",
      "I will be looking forward to receive al your practise files of today, Prabu\n",
      "Keep up the good work HARISH !!!\n",
      "I will be looking forward to receive al your practise files of today, Harish\n",
      "Keep up the good work JASMINE !!!\n",
      "I will be looking forward to receive al your practise files of today, Jasmine\n",
      "Keep up the good work RAVI !!!\n",
      "I will be looking forward to receive al your practise files of today, Ravi\n"
     ]
    }
   ],
   "source": [
    "#Enhancement of the code ... !\n",
    "\n",
    "for x in students:\n",
    "    print(f\"Keep up the good work {x.upper()} !!!\")\n",
    "    print(f\"I will be looking forward to receive al your practise files of today, {x.title()}\")"
   ]
  },
  {
   "cell_type": "code",
   "execution_count": 30,
   "metadata": {},
   "outputs": [
    {
     "name": "stdout",
     "output_type": "stream",
     "text": [
      "Keep up the good work RAMESH !!!\n",
      "I will be looking forward to receive al your practise files of today, Ramesh. \n",
      "\n",
      "Keep up the good work SURESH !!!\n",
      "I will be looking forward to receive al your practise files of today, Suresh. \n",
      "\n",
      "Keep up the good work SUMAN !!!\n",
      "I will be looking forward to receive al your practise files of today, Suman. \n",
      "\n",
      "Keep up the good work PRABU !!!\n",
      "I will be looking forward to receive al your practise files of today, Prabu. \n",
      "\n",
      "Keep up the good work HARISH !!!\n",
      "I will be looking forward to receive al your practise files of today, Harish. \n",
      "\n",
      "Keep up the good work JASMINE !!!\n",
      "I will be looking forward to receive al your practise files of today, Jasmine. \n",
      "\n",
      "Keep up the good work RAVI !!!\n",
      "I will be looking forward to receive al your practise files of today, Ravi. \n",
      "\n"
     ]
    }
   ],
   "source": [
    "#Improvistaion of the syntax:\n",
    "\n",
    "for x in students:\n",
    "    print(f\"Keep up the good work {x.upper()} !!!\")\n",
    "    print(f\"I will be looking forward to receive al your practise files of today, {x.title()}. \\n\")"
   ]
  },
  {
   "cell_type": "code",
   "execution_count": 38,
   "metadata": {},
   "outputs": [
    {
     "name": "stdout",
     "output_type": "stream",
     "text": [
      "Keep up the good work RAMESH!!!\n",
      "I will be looking forward to receive al your practise files of today, Ramesh. \n",
      "\n",
      "Keep up the good work SURESH!!!\n",
      "I will be looking forward to receive al your practise files of today, Suresh. \n",
      "\n",
      "Keep up the good work SUMAN!!!\n",
      "I will be looking forward to receive al your practise files of today, Suman. \n",
      "\n",
      "Keep up the good work PRABU!!!\n",
      "I will be looking forward to receive al your practise files of today, Prabu. \n",
      "\n",
      "Keep up the good work HARISH!!!\n",
      "I will be looking forward to receive al your practise files of today, Harish. \n",
      "\n",
      "Keep up the good work JASMINE!!!\n",
      "I will be looking forward to receive al your practise files of today, Jasmine. \n",
      "\n",
      "Keep up the good work RAVI!!!\n",
      "I will be looking forward to receive al your practise files of today, Ravi. \n",
      "\n",
      "THANK YOU ALL FOR SHOWING THE INTEREST IN LEARNING PYTHON!!!\n"
     ]
    }
   ],
   "source": [
    "#Improvistaion of the syntax:\n",
    "\n",
    "for x in students:\n",
    "    print(f\"Keep up the good work {x.upper()}!!!\")\n",
    "    print(f\"I will be looking forward to receive al your practise files of today, {x.title()}. \\n\")\n",
    "    \n",
    "print(f\"thank you all for showing the interest in learning python!!!\".upper())"
   ]
  },
  {
   "cell_type": "code",
   "execution_count": 39,
   "metadata": {},
   "outputs": [],
   "source": [
    "#Introduction to Zen of python:"
   ]
  },
  {
   "cell_type": "code",
   "execution_count": 49,
   "metadata": {},
   "outputs": [],
   "source": [
    "import this  #import will work only once "
   ]
  },
  {
   "cell_type": "code",
   "execution_count": 50,
   "metadata": {},
   "outputs": [],
   "source": [
    "#Introduction to organising the list:"
   ]
  },
  {
   "cell_type": "code",
   "execution_count": 54,
   "metadata": {},
   "outputs": [
    {
     "name": "stdout",
     "output_type": "stream",
     "text": [
      "['ramesh', 'suresh', 'suman', 'prabu', 'harish', 'jasmine', 'ravi']\n"
     ]
    }
   ],
   "source": [
    "print(students)"
   ]
  },
  {
   "cell_type": "code",
   "execution_count": null,
   "metadata": {},
   "outputs": [],
   "source": [
    "#2 Ways\n",
    "    #1. Temp way\n",
    "    #2. Permanent way"
   ]
  },
  {
   "cell_type": "code",
   "execution_count": 55,
   "metadata": {},
   "outputs": [
    {
     "name": "stdout",
     "output_type": "stream",
     "text": [
      "['harish', 'jasmine', 'prabu', 'ramesh', 'ravi', 'suman', 'suresh']\n"
     ]
    }
   ],
   "source": [
    "#1. Temp way: \n",
    "print(sorted(students)) #sorted is internal method to sort the list"
   ]
  },
  {
   "cell_type": "code",
   "execution_count": 57,
   "metadata": {},
   "outputs": [],
   "source": [
    "#2. Permanent way:\n",
    "students.sort()"
   ]
  },
  {
   "cell_type": "code",
   "execution_count": 64,
   "metadata": {},
   "outputs": [
    {
     "name": "stdout",
     "output_type": "stream",
     "text": [
      "['harish', 'jasmine', 'prabu', 'ramesh', 'ravi', 'suman', 'suresh']\n"
     ]
    }
   ],
   "source": [
    "print(students)"
   ]
  },
  {
   "cell_type": "code",
   "execution_count": 60,
   "metadata": {},
   "outputs": [],
   "source": [
    "#sorted vs sort => sorted will be used only during print the list temporarily sorted vs sort will permanently sorts the list "
   ]
  },
  {
   "cell_type": "code",
   "execution_count": null,
   "metadata": {},
   "outputs": [],
   "source": []
  }
 ],
 "metadata": {
  "kernelspec": {
   "display_name": "Python 3",
   "language": "python",
   "name": "python3"
  },
  "language_info": {
   "codemirror_mode": {
    "name": "ipython",
    "version": 3
   },
   "file_extension": ".py",
   "mimetype": "text/x-python",
   "name": "python",
   "nbconvert_exporter": "python",
   "pygments_lexer": "ipython3",
   "version": "3.7.4"
  }
 },
 "nbformat": 4,
 "nbformat_minor": 2
}
