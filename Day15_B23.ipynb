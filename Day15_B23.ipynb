{
 "cells": [
  {
   "cell_type": "code",
   "execution_count": null,
   "metadata": {},
   "outputs": [],
   "source": [
    "#Introduction to file handling in python:\n",
    "\n",
    "# 1. How to read the data in python\n",
    "# 2. How to write the data in python\n",
    "# 3. How to append the data in python"
   ]
  },
  {
   "cell_type": "code",
   "execution_count": 1,
   "metadata": {},
   "outputs": [
    {
     "name": "stdout",
     "output_type": "stream",
     "text": [
      "123\n",
      "456\n",
      "789\n",
      "321\n",
      "654\n"
     ]
    }
   ],
   "source": [
    "# 1. How to read the data in python\n",
    "\n",
    "with open('Digits_B23.txt') as file_object:\n",
    "    contents = file_object.read()\n",
    "print(contents)\n",
    "        "
   ]
  },
  {
   "cell_type": "code",
   "execution_count": 2,
   "metadata": {},
   "outputs": [
    {
     "name": "stdout",
     "output_type": "stream",
     "text": [
      "123\n",
      "456\n",
      "789\n",
      "321\n",
      "654\n"
     ]
    }
   ],
   "source": [
    "filename = 'Digits_B23.txt'\n",
    "\n",
    "with open(filename) as file_object:\n",
    "    contents = file_object.read()\n",
    "print(contents)\n",
    "        "
   ]
  },
  {
   "cell_type": "code",
   "execution_count": 13,
   "metadata": {},
   "outputs": [],
   "source": [
    "# 2. How to write the data in python\n",
    "\n",
    "filename = 'Blank_B23.txt'\n",
    "\n",
    "with open(filename,'w') as file_object:\n",
    "    contents = file_object.write('Hi I wrote it in Blank_B23.txt')\n"
   ]
  },
  {
   "cell_type": "code",
   "execution_count": 14,
   "metadata": {},
   "outputs": [
    {
     "name": "stdout",
     "output_type": "stream",
     "text": [
      "Hi I wrote it in Blank_B23.txt\n"
     ]
    }
   ],
   "source": [
    "with open(filename) as file_object:\n",
    "    contents = file_object.read()\n",
    "print(contents)"
   ]
  },
  {
   "cell_type": "code",
   "execution_count": 15,
   "metadata": {},
   "outputs": [],
   "source": [
    "# In write mode , old data will be wiped off only newly entered(latest) data will be there"
   ]
  },
  {
   "cell_type": "code",
   "execution_count": 16,
   "metadata": {},
   "outputs": [],
   "source": [
    "# 3. How to append the data in python\n",
    "\n",
    "filename = 'Blank_B23.txt'\n",
    "\n",
    "with open(filename,'a') as file_object:\n",
    "    contents = file_object.write('\\n Hi I wrote it in Blank_B23.txt in second line using append')\n"
   ]
  },
  {
   "cell_type": "code",
   "execution_count": 17,
   "metadata": {},
   "outputs": [
    {
     "name": "stdout",
     "output_type": "stream",
     "text": [
      "Hi I wrote it in Blank_B23.txt\n",
      " Hi I wrote it in Blank_B23.txt in second line using append\n"
     ]
    }
   ],
   "source": [
    "with open(filename) as file_object:\n",
    "    contents = file_object.read()\n",
    "print(contents)"
   ]
  },
  {
   "cell_type": "code",
   "execution_count": 18,
   "metadata": {},
   "outputs": [],
   "source": [
    "filename = 'Blank_B23.txt'\n",
    "\n",
    "with open(filename,'a') as file_object:\n",
    "    contents = file_object.write('\\n Hi I wrote it in Blank_B23.txt in third line using append')\n"
   ]
  },
  {
   "cell_type": "code",
   "execution_count": 19,
   "metadata": {},
   "outputs": [
    {
     "name": "stdout",
     "output_type": "stream",
     "text": [
      "Hi I wrote it in Blank_B23.txt\n",
      " Hi I wrote it in Blank_B23.txt in second line using append\n",
      " Hi I wrote it in Blank_B23.txt in third line using append\n"
     ]
    }
   ],
   "source": [
    "with open(filename) as file_object:\n",
    "    contents = file_object.read()\n",
    "print(contents)"
   ]
  },
  {
   "cell_type": "code",
   "execution_count": 20,
   "metadata": {},
   "outputs": [],
   "source": [
    "## By default File handling will be in Read only mode.\n",
    "\n",
    "# r - read only\n",
    "# w - write only\n",
    "# a - append only"
   ]
  },
  {
   "cell_type": "code",
   "execution_count": null,
   "metadata": {},
   "outputs": [],
   "source": []
  },
  {
   "cell_type": "code",
   "execution_count": null,
   "metadata": {},
   "outputs": [],
   "source": []
  },
  {
   "cell_type": "code",
   "execution_count": null,
   "metadata": {},
   "outputs": [],
   "source": []
  },
  {
   "cell_type": "code",
   "execution_count": null,
   "metadata": {},
   "outputs": [],
   "source": []
  }
 ],
 "metadata": {
  "kernelspec": {
   "display_name": "Python 3",
   "language": "python",
   "name": "python3"
  },
  "language_info": {
   "codemirror_mode": {
    "name": "ipython",
    "version": 3
   },
   "file_extension": ".py",
   "mimetype": "text/x-python",
   "name": "python",
   "nbconvert_exporter": "python",
   "pygments_lexer": "ipython3",
   "version": "3.7.4"
  }
 },
 "nbformat": 4,
 "nbformat_minor": 2
}
