{
 "cells": [
  {
   "cell_type": "code",
   "execution_count": 1,
   "metadata": {},
   "outputs": [],
   "source": [
    "#Continuation on Dictionaries:\n",
    "#dict = {}\n"
   ]
  },
  {
   "cell_type": "code",
   "execution_count": 2,
   "metadata": {},
   "outputs": [],
   "source": [
    "alien = {'color':'green','point':5,'start_position':0,'current_position':10}"
   ]
  },
  {
   "cell_type": "code",
   "execution_count": 3,
   "metadata": {},
   "outputs": [
    {
     "name": "stdout",
     "output_type": "stream",
     "text": [
      "{'color': 'green', 'point': 5, 'start_position': 0, 'current_position': 10}\n"
     ]
    }
   ],
   "source": [
    "print(alien)"
   ]
  },
  {
   "cell_type": "code",
   "execution_count": 8,
   "metadata": {},
   "outputs": [
    {
     "name": "stdout",
     "output_type": "stream",
     "text": [
      "green\n"
     ]
    }
   ],
   "source": [
    "print(alien['color'])"
   ]
  },
  {
   "cell_type": "code",
   "execution_count": null,
   "metadata": {},
   "outputs": [],
   "source": [
    "#Modifying the values of Dictionary:\n",
    "\n",
    "#level 2 - color = yellow and points = 10"
   ]
  },
  {
   "cell_type": "code",
   "execution_count": 11,
   "metadata": {},
   "outputs": [],
   "source": [
    "alien['color']='yellow'\n",
    "alien['point']=10"
   ]
  },
  {
   "cell_type": "code",
   "execution_count": 14,
   "metadata": {},
   "outputs": [
    {
     "data": {
      "text/plain": [
       "10"
      ]
     },
     "execution_count": 14,
     "metadata": {},
     "output_type": "execute_result"
    }
   ],
   "source": [
    "alien.pop('points')"
   ]
  },
  {
   "cell_type": "code",
   "execution_count": 17,
   "metadata": {},
   "outputs": [
    {
     "name": "stdout",
     "output_type": "stream",
     "text": [
      "welcome to level 2 {'color': 'yellow', 'point': 10, 'start_position': 0, 'current_position': 10}\n"
     ]
    }
   ],
   "source": [
    "print(f\"welcome to level 2 {alien}\")"
   ]
  },
  {
   "cell_type": "code",
   "execution_count": 18,
   "metadata": {},
   "outputs": [],
   "source": [
    "#How to delete the key value pairs from the dictionary:"
   ]
  },
  {
   "cell_type": "code",
   "execution_count": 20,
   "metadata": {},
   "outputs": [],
   "source": [
    "del(alien['start_position'])"
   ]
  },
  {
   "cell_type": "code",
   "execution_count": 21,
   "metadata": {},
   "outputs": [
    {
     "name": "stdout",
     "output_type": "stream",
     "text": [
      "{'color': 'yellow', 'point': 10, 'current_position': 10}\n"
     ]
    }
   ],
   "source": [
    "print(alien)"
   ]
  },
  {
   "cell_type": "code",
   "execution_count": 22,
   "metadata": {},
   "outputs": [],
   "source": [
    "#Looping through the dictionaries:"
   ]
  },
  {
   "cell_type": "code",
   "execution_count": 23,
   "metadata": {},
   "outputs": [],
   "source": [
    "fav_languages = {'samreen':'python','ram':'c','harish':'java','simran':'c#','janani':'english','priya':'swift'}"
   ]
  },
  {
   "cell_type": "code",
   "execution_count": 24,
   "metadata": {},
   "outputs": [
    {
     "name": "stdout",
     "output_type": "stream",
     "text": [
      "samreen\n",
      "ram\n",
      "harish\n",
      "simran\n",
      "janani\n",
      "priya\n"
     ]
    }
   ],
   "source": [
    "for x in fav_languages:\n",
    "    print(x)"
   ]
  },
  {
   "cell_type": "code",
   "execution_count": 25,
   "metadata": {},
   "outputs": [
    {
     "name": "stdout",
     "output_type": "stream",
     "text": [
      "samreen python\n",
      "ram c\n",
      "harish java\n",
      "simran c#\n",
      "janani english\n",
      "priya swift\n"
     ]
    }
   ],
   "source": [
    "for x,y in fav_languages.items():\n",
    "    print(x,y)"
   ]
  },
  {
   "cell_type": "code",
   "execution_count": 31,
   "metadata": {},
   "outputs": [
    {
     "name": "stdout",
     "output_type": "stream",
     "text": [
      "Name: Samreen\n",
      "Fav_lang: PYTHON\n",
      "\n",
      "Name: Ram\n",
      "Fav_lang: C\n",
      "\n",
      "Name: Harish\n",
      "Fav_lang: JAVA\n",
      "\n",
      "Name: Simran\n",
      "Fav_lang: C#\n",
      "\n",
      "Name: Janani\n",
      "Fav_lang: ENGLISH\n",
      "\n",
      "Name: Priya\n",
      "Fav_lang: SWIFT\n",
      "\n"
     ]
    }
   ],
   "source": [
    "for x,y in fav_languages.items():\n",
    "    print(f\"Name: {x.title()}\")\n",
    "    print(f\"Fav_lang: {y.upper()}\\n\")"
   ]
  },
  {
   "cell_type": "code",
   "execution_count": 32,
   "metadata": {},
   "outputs": [],
   "source": [
    "#Normal for loop syntax:\n",
    "\n",
    "for tempvar in mainvar:\n",
    "    print(tempvar)"
   ]
  },
  {
   "cell_type": "code",
   "execution_count": null,
   "metadata": {},
   "outputs": [],
   "source": [
    "#DICT for loop syntax:\n",
    "\n",
    "for tempvar1,tempvar2 in mainvar.items():\n",
    "    print(tempvar1,tempvar2)"
   ]
  },
  {
   "cell_type": "code",
   "execution_count": null,
   "metadata": {},
   "outputs": [],
   "source": [
    "#Req: To find out students who have taken the survey? Only keys"
   ]
  },
  {
   "cell_type": "code",
   "execution_count": 36,
   "metadata": {},
   "outputs": [
    {
     "name": "stdout",
     "output_type": "stream",
     "text": [
      "\n",
      "Student_name: Samreen\n",
      "\n",
      "Student_name: Ram\n",
      "\n",
      "Student_name: Harish\n",
      "\n",
      "Student_name: Simran\n",
      "\n",
      "Student_name: Janani\n",
      "\n",
      "Student_name: Priya\n"
     ]
    }
   ],
   "source": [
    "for x in fav_languages.keys():\n",
    "    print(f\"\\nStudent_name: {x.title()}\")"
   ]
  },
  {
   "cell_type": "code",
   "execution_count": 40,
   "metadata": {},
   "outputs": [
    {
     "name": "stdout",
     "output_type": "stream",
     "text": [
      "\n",
      "Fav_Language_name: Python\n",
      "\n",
      "Fav_Language_name: C\n",
      "\n",
      "Fav_Language_name: Java\n",
      "\n",
      "Fav_Language_name: C#\n",
      "\n",
      "Fav_Language_name: English\n",
      "\n",
      "Fav_Language_name: Swift\n"
     ]
    }
   ],
   "source": [
    "for y in fav_languages.values():\n",
    "    print(f\"\\nFav_Language_name: {y.title()}\")"
   ]
  },
  {
   "cell_type": "code",
   "execution_count": 42,
   "metadata": {},
   "outputs": [
    {
     "name": "stdout",
     "output_type": "stream",
     "text": [
      "\n",
      "Student_name: Samreen\n",
      "Fav_Language_name: Python\n",
      "\n",
      "Student_name: Ram\n",
      "Fav_Language_name: C\n",
      "\n",
      "Student_name: Harish\n",
      "Fav_Language_name: Java\n",
      "\n",
      "Student_name: Simran\n",
      "Fav_Language_name: C#\n",
      "\n",
      "Student_name: Janani\n",
      "Fav_Language_name: English\n",
      "\n",
      "Student_name: Priya\n",
      "Fav_Language_name: Swift\n"
     ]
    }
   ],
   "source": [
    "for x,y in fav_languages.items():\n",
    "    print(f\"\\nStudent_name: {x.title()}\")\n",
    "    print(f\"Fav_Language_name: {y.title()}\")"
   ]
  },
  {
   "cell_type": "code",
   "execution_count": null,
   "metadata": {},
   "outputs": [],
   "source": []
  },
  {
   "cell_type": "code",
   "execution_count": null,
   "metadata": {},
   "outputs": [],
   "source": []
  }
 ],
 "metadata": {
  "kernelspec": {
   "display_name": "Python 3",
   "language": "python",
   "name": "python3"
  },
  "language_info": {
   "codemirror_mode": {
    "name": "ipython",
    "version": 3
   },
   "file_extension": ".py",
   "mimetype": "text/x-python",
   "name": "python",
   "nbconvert_exporter": "python",
   "pygments_lexer": "ipython3",
   "version": "3.7.4"
  }
 },
 "nbformat": 4,
 "nbformat_minor": 2
}
