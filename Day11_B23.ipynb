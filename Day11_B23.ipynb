{
 "cells": [
  {
   "cell_type": "code",
   "execution_count": 1,
   "metadata": {},
   "outputs": [],
   "source": [
    "#Introduction to Functions:\n",
    "\n",
    "#Code reusability - We have to ensure that we are using a reusable code"
   ]
  },
  {
   "cell_type": "code",
   "execution_count": null,
   "metadata": {},
   "outputs": [],
   "source": [
    "#How to define the functions in PYTHON:\n",
    "\n",
    "# def is the keyword will be using to define the functipns"
   ]
  },
  {
   "cell_type": "code",
   "execution_count": null,
   "metadata": {},
   "outputs": [],
   "source": [
    "#Req : Write a function for greeting the user."
   ]
  },
  {
   "cell_type": "code",
   "execution_count": 2,
   "metadata": {},
   "outputs": [],
   "source": [
    "def greetuser():\n",
    "    \"\"\"Creating a fucntion to greet the user\"\"\"  ##Doc-Strings - Commenting inside a function\n",
    "    print(\"Hello!!!\")"
   ]
  },
  {
   "cell_type": "code",
   "execution_count": 3,
   "metadata": {},
   "outputs": [
    {
     "name": "stdout",
     "output_type": "stream",
     "text": [
      "Hello!!!\n"
     ]
    }
   ],
   "source": [
    "greetuser()"
   ]
  },
  {
   "cell_type": "code",
   "execution_count": 6,
   "metadata": {},
   "outputs": [],
   "source": [
    "#Enhancement of code\n",
    "\n",
    "def greetuser(name):\n",
    "    \"\"\"Creating a fucntion to greet the user\"\"\"\n",
    "    print(f\"Hello, {name.title()}\")"
   ]
  },
  {
   "cell_type": "code",
   "execution_count": 7,
   "metadata": {},
   "outputs": [
    {
     "name": "stdout",
     "output_type": "stream",
     "text": [
      "Hello, Harish\n"
     ]
    }
   ],
   "source": [
    "greetuser('harish')"
   ]
  },
  {
   "cell_type": "code",
   "execution_count": 8,
   "metadata": {},
   "outputs": [
    {
     "name": "stdout",
     "output_type": "stream",
     "text": [
      "Hello, Karthik\n"
     ]
    }
   ],
   "source": [
    "greetuser('karthik')"
   ]
  },
  {
   "cell_type": "code",
   "execution_count": 9,
   "metadata": {},
   "outputs": [
    {
     "name": "stdout",
     "output_type": "stream",
     "text": [
      "Hello, Sajid\n"
     ]
    }
   ],
   "source": [
    "greetuser('sajid')"
   ]
  },
  {
   "cell_type": "code",
   "execution_count": null,
   "metadata": {},
   "outputs": [],
   "source": [
    "#Addtition of integers"
   ]
  },
  {
   "cell_type": "code",
   "execution_count": 14,
   "metadata": {},
   "outputs": [],
   "source": [
    "def add(num1,num2=5): #Using Default arguements\n",
    "    print(f\"Sum of the {num1} and {num2} is {num1+num2}\")"
   ]
  },
  {
   "cell_type": "code",
   "execution_count": 16,
   "metadata": {},
   "outputs": [
    {
     "name": "stdout",
     "output_type": "stream",
     "text": [
      "Sum of the 4 and 6 is 10\n"
     ]
    }
   ],
   "source": [
    "add(4,6)"
   ]
  },
  {
   "cell_type": "code",
   "execution_count": 12,
   "metadata": {},
   "outputs": [],
   "source": [
    "#Defining / Declaring the function., \n",
    "\n",
    "#1. Always use lowecase lettersto declare a function name\n",
    "\n",
    "#2. Doc-Strings - Commenting inside a function"
   ]
  },
  {
   "cell_type": "code",
   "execution_count": 20,
   "metadata": {},
   "outputs": [],
   "source": [
    "#Understanding parameters and arguements"
   ]
  },
  {
   "cell_type": "code",
   "execution_count": 21,
   "metadata": {},
   "outputs": [],
   "source": [
    "def add(num1,num2): #Using Parameters\n",
    "    print(f\"Sum of the {num1} and {num2} is {num1+num2}\")"
   ]
  },
  {
   "cell_type": "code",
   "execution_count": 23,
   "metadata": {},
   "outputs": [
    {
     "name": "stdout",
     "output_type": "stream",
     "text": [
      "Sum of the 1 and 6 is 7\n"
     ]
    }
   ],
   "source": [
    "add(1,6) #Funtion call or calling the functions--> With runtime arguements"
   ]
  },
  {
   "cell_type": "code",
   "execution_count": null,
   "metadata": {},
   "outputs": [],
   "source": [
    "def add(num1,num2=5): #Using Default Parameters\n",
    "    print(f\"Sum of the {num1} and {num2} is {num1+num2}\")"
   ]
  },
  {
   "cell_type": "code",
   "execution_count": 24,
   "metadata": {},
   "outputs": [
    {
     "name": "stdout",
     "output_type": "stream",
     "text": [
      "Sum of the 1 and 5 is 6\n"
     ]
    }
   ],
   "source": [
    "add(1) #Funtion call or calling the functions--> With runtime arguements"
   ]
  },
  {
   "cell_type": "code",
   "execution_count": null,
   "metadata": {},
   "outputs": [],
   "source": [
    "#Req : Create a function called describepet , which accepts two parameters animal_type,pet_name"
   ]
  },
  {
   "cell_type": "code",
   "execution_count": 39,
   "metadata": {},
   "outputs": [],
   "source": [
    "def describepet(animal_type,pet_name): #Using Parameters\n",
    "    print(f\"I have a {animal_type.title()} and its name is {pet_name.title()}!!!! \\n\")"
   ]
  },
  {
   "cell_type": "code",
   "execution_count": 40,
   "metadata": {},
   "outputs": [
    {
     "name": "stdout",
     "output_type": "stream",
     "text": [
      "I have a Cat and its name is Tom!!!! \n",
      "\n"
     ]
    }
   ],
   "source": [
    "describepet('cat','tom')"
   ]
  },
  {
   "cell_type": "code",
   "execution_count": 41,
   "metadata": {},
   "outputs": [
    {
     "name": "stdout",
     "output_type": "stream",
     "text": [
      "I have a Dog and its name is Scooby Doo!!!! \n",
      "\n"
     ]
    }
   ],
   "source": [
    "describepet('dog','scooby doo')"
   ]
  },
  {
   "cell_type": "code",
   "execution_count": 42,
   "metadata": {},
   "outputs": [
    {
     "name": "stdout",
     "output_type": "stream",
     "text": [
      "I have a Rat and its name is Jerry!!!! \n",
      "\n"
     ]
    }
   ],
   "source": [
    "describepet('rat','jerry')"
   ]
  },
  {
   "cell_type": "code",
   "execution_count": 43,
   "metadata": {},
   "outputs": [
    {
     "name": "stdout",
     "output_type": "stream",
     "text": [
      "I have a Dog and its name is Jackie!!!! \n",
      "\n",
      "I have a Cat and its name is Rex!!!! \n",
      "\n",
      "I have a Parrot and its name is Nov!!!! \n",
      "\n",
      "I have a Rat and its name is Max!!!! \n",
      "\n"
     ]
    }
   ],
   "source": [
    "describepet('dog','jackie')\n",
    "describepet('cat','rex')\n",
    "describepet('parrot','nov')\n",
    "describepet('rat','max')\n"
   ]
  },
  {
   "cell_type": "code",
   "execution_count": null,
   "metadata": {},
   "outputs": [],
   "source": []
  }
 ],
 "metadata": {
  "kernelspec": {
   "display_name": "Python 3",
   "language": "python",
   "name": "python3"
  },
  "language_info": {
   "codemirror_mode": {
    "name": "ipython",
    "version": 3
   },
   "file_extension": ".py",
   "mimetype": "text/x-python",
   "name": "python",
   "nbconvert_exporter": "python",
   "pygments_lexer": "ipython3",
   "version": "3.7.4"
  }
 },
 "nbformat": 4,
 "nbformat_minor": 2
}
