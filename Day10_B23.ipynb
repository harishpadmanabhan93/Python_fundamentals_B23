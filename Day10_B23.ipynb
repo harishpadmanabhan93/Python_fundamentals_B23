{
 "cells": [
  {
   "cell_type": "code",
   "execution_count": 1,
   "metadata": {},
   "outputs": [],
   "source": [
    "#Introduction to while loops:\n",
    "#It will be validating certain conditions to implement"
   ]
  },
  {
   "cell_type": "code",
   "execution_count": 2,
   "metadata": {},
   "outputs": [
    {
     "name": "stdout",
     "output_type": "stream",
     "text": [
      "1\n",
      "2\n",
      "3\n",
      "4\n",
      "5\n"
     ]
    }
   ],
   "source": [
    "current_num = 1\n",
    "while current_num <=5: # conditions to validate\n",
    "    print(current_num)\n",
    "    \n",
    "    current_num +=1"
   ]
  },
  {
   "cell_type": "code",
   "execution_count": 4,
   "metadata": {},
   "outputs": [
    {
     "name": "stdout",
     "output_type": "stream",
     "text": [
      "1\n",
      "3\n",
      "5\n",
      "7\n",
      "9\n",
      "11\n",
      "13\n",
      "15\n",
      "17\n",
      "19\n"
     ]
    }
   ],
   "source": [
    "current_num = 1\n",
    "while current_num <=20: # conditions to validate\n",
    "    print(current_num)\n",
    "    \n",
    "    current_num +=2"
   ]
  },
  {
   "cell_type": "code",
   "execution_count": 5,
   "metadata": {},
   "outputs": [
    {
     "name": "stdout",
     "output_type": "stream",
     "text": [
      "\n",
      "Tell me something and I will repeat back to you:\n",
      "Enter 'quit' to end the program\n",
      "\n",
      "\n",
      "Tell me something and I will repeat back to you:\n",
      "Enter 'quit' to end the programHello All\n",
      "Hello All\n",
      "\n",
      "Tell me something and I will repeat back to you:\n",
      "Enter 'quit' to end the program  Hi All\n",
      "  Hi All\n",
      "\n",
      "Tell me something and I will repeat back to you:\n",
      "Enter 'quit' to end the program How are you\n",
      " How are you\n",
      "\n",
      "Tell me something and I will repeat back to you:\n",
      "Enter 'quit' to end the programquit\n",
      "quit\n"
     ]
    }
   ],
   "source": [
    "#letting the user choose when to quit\n",
    "prompt =\"\\nTell me something and I will repeat back to you:\"\n",
    "prompt += \"\\nEnter 'quit' to end the program\"\n",
    "\n",
    "message = \" \" #empty string\n",
    "\n",
    "while message != 'quit':\n",
    "    message = input(prompt)\n",
    "    print(message)"
   ]
  },
  {
   "cell_type": "code",
   "execution_count": null,
   "metadata": {},
   "outputs": [],
   "source": []
  },
  {
   "cell_type": "code",
   "execution_count": null,
   "metadata": {},
   "outputs": [],
   "source": []
  },
  {
   "cell_type": "code",
   "execution_count": null,
   "metadata": {},
   "outputs": [],
   "source": []
  },
  {
   "cell_type": "code",
   "execution_count": null,
   "metadata": {},
   "outputs": [],
   "source": []
  },
  {
   "cell_type": "code",
   "execution_count": null,
   "metadata": {},
   "outputs": [],
   "source": []
  },
  {
   "cell_type": "code",
   "execution_count": null,
   "metadata": {},
   "outputs": [],
   "source": []
  }
 ],
 "metadata": {
  "kernelspec": {
   "display_name": "Python 3",
   "language": "python",
   "name": "python3"
  },
  "language_info": {
   "codemirror_mode": {
    "name": "ipython",
    "version": 3
   },
   "file_extension": ".py",
   "mimetype": "text/x-python",
   "name": "python",
   "nbconvert_exporter": "python",
   "pygments_lexer": "ipython3",
   "version": "3.7.4"
  }
 },
 "nbformat": 4,
 "nbformat_minor": 2
}
